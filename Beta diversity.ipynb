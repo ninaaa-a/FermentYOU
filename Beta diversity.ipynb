{
 "cells": [
  {
   "cell_type": "markdown",
   "id": "8641356d-b088-4643-9ee4-a57dfc16613f",
   "metadata": {},
   "source": [
    "Code to analyze the Beta diversity"
   ]
  },
  {
   "cell_type": "code",
   "execution_count": null,
   "id": "3bf8d388-7a56-4f85-8767-c3408a93be51",
   "metadata": {},
   "outputs": [],
   "source": [
    "# importing all required packages & notebook extensions at the start of the notebook\n",
    "import os\n",
    "import pandas as pd\n",
    "import qiime2 as q2\n",
    "from skbio import OrdinationResults\n",
    "from qiime2 import Visualization\n",
    "from seaborn import scatterplot\n",
    "\n",
    "%matplotlib inline"
   ]
  },
  {
   "cell_type": "markdown",
   "id": "54663410-edd9-4544-982f-e961d111af51",
   "metadata": {},
   "source": [
    "Results from Alpha Analysis needed"
   ]
  }
 ],
 "metadata": {
  "kernelspec": {
   "display_name": "QIIME 2",
   "language": "python",
   "name": "python3"
  },
  "language_info": {
   "codemirror_mode": {
    "name": "ipython",
    "version": 3
   },
   "file_extension": ".py",
   "mimetype": "text/x-python",
   "name": "python",
   "nbconvert_exporter": "python",
   "pygments_lexer": "ipython3",
   "version": "3.10.14"
  }
 },
 "nbformat": 4,
 "nbformat_minor": 5
}
