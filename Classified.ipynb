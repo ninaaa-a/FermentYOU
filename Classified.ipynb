{
 "cells": [
  {
   "cell_type": "code",
   "execution_count": 11,
   "id": "680c98ef-b61b-4981-94fb-909ca341e315",
   "metadata": {
    "tags": []
   },
   "outputs": [],
   "source": [
    "import os\n",
    "import pandas as pd\n",
    "from qiime2 import Visualization\n",
    "import matplotlib.pyplot as plt\n",
    "\n",
    "%matplotlib inline"
   ]
  },
  {
   "cell_type": "code",
   "execution_count": 12,
   "id": "2394c72f-fdaa-4f53-880d-b19da6811189",
   "metadata": {
    "tags": []
   },
   "outputs": [],
   "source": [
    "Data = 'Data'"
   ]
  },
  {
   "cell_type": "code",
   "execution_count": 3,
   "id": "ede409d9-a313-4cc2-848f-25b0e071f547",
   "metadata": {
    "tags": []
   },
   "outputs": [
    {
     "name": "stdout",
     "output_type": "stream",
     "text": [
      "/opt/conda/lib/python3.10/site-packages/unifrac/__init__.py:9: UserWarning: pkg_resources is deprecated as an API. See https://setuptools.pypa.io/en/latest/pkg_resources.html. The pkg_resources package is slated for removal as early as 2025-11-30. Refrain from using this package or pin to Setuptools<81.\n",
      "  import pkg_resources\n",
      "\u001b[32mSaved Visualization to: Data/taxonomy.qzv\u001b[0m\n",
      "\u001b[0m\u001b[?25h"
     ]
    }
   ],
   "source": [
    "! qiime metadata tabulate \\\n",
    "    --m-input-file $Data/taxonomy.qza \\\n",
    "    --o-visualization $Data/taxonomy.qzv"
   ]
  },
  {
   "cell_type": "code",
   "execution_count": null,
   "id": "c44bb921-c109-4cfc-8e7a-64dd6b68d5a1",
   "metadata": {},
   "outputs": [],
   "source": [
    "Visualization.load(f\"{Data}/taxonomy.qzv\")"
   ]
  }
 ],
 "metadata": {
  "kernelspec": {
   "display_name": "QIIME 2",
   "language": "python",
   "name": "python3"
  },
  "language_info": {
   "codemirror_mode": {
    "name": "ipython",
    "version": 3
   },
   "file_extension": ".py",
   "mimetype": "text/x-python",
   "name": "python",
   "nbconvert_exporter": "python",
   "pygments_lexer": "ipython3",
   "version": "3.10.14"
  }
 },
 "nbformat": 4,
 "nbformat_minor": 5
}
