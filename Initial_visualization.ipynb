{
 "cells": [
  {
   "cell_type": "markdown",
   "id": "6bc4e52d-6902-47fa-a42d-60c7953dae59",
   "metadata": {},
   "source": [
    "Metadata visualization to get an overview of our data and it's content"
   ]
  },
  {
   "cell_type": "code",
   "execution_count": null,
   "id": "37a8cc43-26cc-4b8b-bef3-7d41a1b35750",
   "metadata": {},
   "outputs": [],
   "source": [
    "import os\n",
    "import pandas as pd\n",
    "from qiime2 import Visualization\n",
    "import matplotlib.pyplot as plt\n",
    "import numpy as np\n",
    "\n",
    "import qiime2 as q2\n",
    "\n",
    "%matplotlib inline\n",
    "\n",
    "Data = 'Data'"
   ]
  },
  {
   "cell_type": "code",
   "execution_count": null,
   "id": "ce026260-bd06-4ec4-8ec1-d8ae4256a17b",
   "metadata": {},
   "outputs": [],
   "source": [
    "df_meta_ITS = pd.read_csv('Data/raw/20250913_metadata_ITS.tsv', sep='\\t')\n",
    "df_meta_ITS.head()"
   ]
  },
  {
   "cell_type": "code",
   "execution_count": null,
   "id": "a5de23e9-9e14-4aeb-a91f-4e6d734fdbb2",
   "metadata": {},
   "outputs": [],
   "source": [
    "df_meta_details = pd.read_csv('Data/raw/20250914_metadata_personal_environmental_sensory_details.tsv', sep='\\t')\n",
    "df_meta_details.head()"
   ]
  },
  {
   "cell_type": "code",
   "execution_count": null,
   "id": "63844782-ced7-46bf-baf3-d320cfdf4e4e",
   "metadata": {},
   "outputs": [],
   "source": [
    "!qiime feature-table tabulate-seqs \\\n",
    "  --i-data Data/raw/filtered-dada1-rep-seqs-highschool.qza \\\n",
    "  --o-visualization Data/visualization/filtered-dada1-rep-seqs-highschool.qzv"
   ]
  },
  {
   "cell_type": "code",
   "execution_count": null,
   "id": "c1e5f3e0-4cbe-4fc3-91d7-cffda5f8d0b9",
   "metadata": {},
   "outputs": [],
   "source": [
    "Visualization.load(f\"{Data}/visualization/filtered-dada1-rep-seqs-highschool.qzv\")"
   ]
  },
  {
   "cell_type": "code",
   "execution_count": null,
   "id": "e4e2d251-d907-4747-8aef-bf514c383c73",
   "metadata": {},
   "outputs": [],
   "source": [
    "!qiime feature-table summarize \\\n",
    "  --i-table Data/raw/modified-dada1-table-highschool.qza \\\n",
    "  --o-visualization Data/visualization/modified-dada1-table-highschool-summary.qzv"
   ]
  },
  {
   "cell_type": "code",
   "execution_count": null,
   "id": "113412a5-4b95-42a2-ad5d-c6f5d28fe661",
   "metadata": {},
   "outputs": [],
   "source": [
    "Visualization.load(f\"{Data}/visualization/modified-dada1-table-highschool-summary.qzv\")"
   ]
  }
 ],
 "metadata": {
  "kernelspec": {
   "display_name": "QIIME 2",
   "language": "python",
   "name": "python3"
  },
  "language_info": {
   "codemirror_mode": {
    "name": "ipython",
    "version": 3
   },
   "file_extension": ".py",
   "mimetype": "text/x-python",
   "name": "python",
   "nbconvert_exporter": "python",
   "pygments_lexer": "ipython3",
   "version": "3.10.14"
  }
 },
 "nbformat": 4,
 "nbformat_minor": 5
}
