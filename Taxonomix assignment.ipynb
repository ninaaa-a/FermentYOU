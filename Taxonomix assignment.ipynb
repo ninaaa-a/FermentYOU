{
 "cells": [
  {
   "cell_type": "code",
   "execution_count": null,
   "id": "470a3da6-96d1-48ad-a4a1-a517c6ce686a",
   "metadata": {},
   "outputs": [],
   "source": [
    "#we want to work with the unite database"
   ]
  },
  {
   "cell_type": "code",
   "execution_count": 1,
   "id": "528a1f8e-ebc6-4425-b2c5-6a2d34329d24",
   "metadata": {
    "execution": {
     "iopub.execute_input": "2025-10-21T08:15:34.322090Z",
     "iopub.status.busy": "2025-10-21T08:15:34.321704Z",
     "iopub.status.idle": "2025-10-21T08:15:35.854285Z",
     "shell.execute_reply": "2025-10-21T08:15:35.853125Z",
     "shell.execute_reply.started": "2025-10-21T08:15:34.322062Z"
    },
    "tags": []
   },
   "outputs": [],
   "source": [
    "import os\n",
    "import pandas as pd\n",
    "from qiime2 import Visualization\n",
    "import matplotlib.pyplot as plt\n",
    "import numpy as np\n",
    "\n",
    "import qiime2 as q2\n",
    "\n",
    "%matplotlib inline\n",
    "\n",
    "# location of this week's data and all the results produced by this notebook \n",
    "# - this should be a path relative to your working directory\n",
    "data_dir = 'Data'"
   ]
  },
  {
   "cell_type": "code",
   "execution_count": 11,
   "id": "a537ec62-cd83-4077-8311-4760fc4fbe5f",
   "metadata": {
    "execution": {
     "iopub.execute_input": "2025-10-13T13:27:40.581012Z",
     "iopub.status.busy": "2025-10-13T13:27:40.580670Z",
     "iopub.status.idle": "2025-10-13T13:28:09.274391Z",
     "shell.execute_reply": "2025-10-13T13:28:09.272412Z",
     "shell.execute_reply.started": "2025-10-13T13:27:40.580982Z"
    },
    "tags": []
   },
   "outputs": [
    {
     "name": "stdout",
     "output_type": "stream",
     "text": [
      "/opt/conda/lib/python3.10/site-packages/unifrac/__init__.py:9: UserWarning: pkg_resources is deprecated as an API. See https://setuptools.pypa.io/en/latest/pkg_resources.html. The pkg_resources package is slated for removal as early as 2025-11-30. Refrain from using this package or pin to Setuptools<81.\n",
      "  import pkg_resources\n",
      "^C\n",
      "\n",
      "Aborted!\n",
      "\u001b[0m\u001b[?25h"
     ]
    }
   ],
   "source": [
    "#run this in the terminal\n",
    "#scp svenzi@euler.ethz.ch:/cluster/home/svenzi/unite_database/uniteDB/classifier.qza ~/FermentYOU/Data/classifier.qza"
   ]
  },
  {
   "cell_type": "code",
   "execution_count": null,
   "id": "cd7437e5-e553-4235-9418-6e7a7211b072",
   "metadata": {},
   "outputs": [],
   "source": [
    "#job to submit the classification to Euler\n",
    "cat > classify_taxonomy.sh << 'EOF'\n",
    "#!/bin/bash\n",
    "#SBATCH --job-name=classify_taxonomy\n",
    "#SBATCH --time=04:00:00\n",
    "#SBATCH --mem-per-cpu=32G\n",
    "#SBATCH --cpus-per-task=4\n",
    "#SBATCH --output=classify_%j.out\n",
    "#SBATCH --error=classify_%j.err\n",
    "\n",
    "# Exit on error\n",
    "set -e\n",
    "\n",
    "# Activate QIIME2 environment\n",
    "source ~/.bashrc\n",
    "conda activate qiime2-moshpit-2025.7\n",
    "\n",
    "# Set variables\n",
    "CLASSIFIER=/cluster/home/svenzi/classifier.qza\n",
    "READS=/cluster/home/svenzi/data_dir/ITS/filtered-dada1-rep-seqs-highschool.qza\n",
    "OUTPUT_DIR=/cluster/home/svenzi/taxonomy_output\n",
    "\n",
    "# Create output directory if it doesn't exist\n",
    "mkdir -p $OUTPUT_DIR\n",
    "\n",
    "# Run classification\n",
    "qiime feature-classifier classify-sklearn \\\n",
    "    --i-classifier $CLASSIFIER \\\n",
    "    --i-reads $READS \\\n",
    "    --o-classification $OUTPUT_DIR/taxonomy.qza \\\n",
    "    --p-n-jobs 4\n",
    "\n",
    "# Create visualization\n",
    "qiime metadata tabulate \\\n",
    "    --m-input-file $OUTPUT_DIR/taxonomy.qza \\\n",
    "    --o-visualization $OUTPUT_DIR/taxonomy.qzv\n",
    "\n",
    "echo \"Job completed successfully!\"\n",
    "EOF\n",
    "\n",
    "# Then submit\n",
    "sbatch classify_taxonomy.sh"
   ]
  },
  {
   "cell_type": "code",
   "execution_count": null,
   "id": "b2660e9c-4c8b-47b4-a26a-64d744430470",
   "metadata": {},
   "outputs": [],
   "source": [
    "#copy the taxonomy files to JupyterHub, run this command in the terminal\n",
    "#scp svenzi@euler.ethz.ch:/cluster/home/svenzi/taxonomy_output/taxonomy.qza Data/\n",
    "#scp svenzi@euler.ethz.ch:/cluster/home/svenzi/taxonomy_output/taxonomy.qzv Data/"
   ]
  },
  {
   "cell_type": "code",
   "execution_count": null,
   "id": "7a3bb63c-2606-4359-b8af-2eedb2cddee0",
   "metadata": {},
   "outputs": [],
   "source": [
    "#check out the type of the downloaded files\n",
    "! qiime tools peek $data_dir/taxonomy.qza"
   ]
  },
  {
   "cell_type": "code",
   "execution_count": null,
   "id": "2a007966-1bf0-405f-88c2-d21ce695dcd6",
   "metadata": {},
   "outputs": [],
   "source": [
    "Visualization.load(f\"{data_dir}/taxonomy.qzv\")"
   ]
  }
 ],
 "metadata": {
  "kernelspec": {
   "display_name": "QIIME 2",
   "language": "python",
   "name": "python3"
  },
  "language_info": {
   "codemirror_mode": {
    "name": "ipython",
    "version": 3
   },
   "file_extension": ".py",
   "mimetype": "text/x-python",
   "name": "python",
   "nbconvert_exporter": "python",
   "pygments_lexer": "ipython3",
   "version": "3.10.14"
  }
 },
 "nbformat": 4,
 "nbformat_minor": 5
}
