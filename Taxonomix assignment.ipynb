{
 "cells": [
  {
   "cell_type": "code",
   "execution_count": null,
   "id": "470a3da6-96d1-48ad-a4a1-a517c6ce686a",
   "metadata": {},
   "outputs": [],
   "source": [
    "#we want to work with the unite database\n",
    "#hello"
   ]
  },
  {
   "cell_type": "code",
   "execution_count": 1,
   "id": "528a1f8e-ebc6-4425-b2c5-6a2d34329d24",
   "metadata": {
    "execution": {
     "iopub.execute_input": "2025-10-21T08:15:34.322090Z",
     "iopub.status.busy": "2025-10-21T08:15:34.321704Z",
     "iopub.status.idle": "2025-10-21T08:15:35.854285Z",
     "shell.execute_reply": "2025-10-21T08:15:35.853125Z",
     "shell.execute_reply.started": "2025-10-21T08:15:34.322062Z"
    },
    "tags": []
   },
   "outputs": [],
   "source": [
    "import os\n",
    "import pandas as pd\n",
    "from qiime2 import Visualization\n",
    "import matplotlib.pyplot as plt\n",
    "import numpy as np\n",
    "\n",
    "import qiime2 as q2\n",
    "\n",
    "%matplotlib inline\n",
    "\n",
    "# location of this week's data and all the results produced by this notebook \n",
    "# - this should be a path relative to your working directory\n",
    "data_dir = 'Data'"
   ]
  },
  {
   "cell_type": "code",
   "execution_count": 11,
   "id": "a537ec62-cd83-4077-8311-4760fc4fbe5f",
   "metadata": {
    "execution": {
     "iopub.execute_input": "2025-10-13T13:27:40.581012Z",
     "iopub.status.busy": "2025-10-13T13:27:40.580670Z",
     "iopub.status.idle": "2025-10-13T13:28:09.274391Z",
     "shell.execute_reply": "2025-10-13T13:28:09.272412Z",
     "shell.execute_reply.started": "2025-10-13T13:27:40.580982Z"
    },
    "tags": []
   },
   "outputs": [
    {
     "name": "stdout",
     "output_type": "stream",
     "text": [
      "/opt/conda/lib/python3.10/site-packages/unifrac/__init__.py:9: UserWarning: pkg_resources is deprecated as an API. See https://setuptools.pypa.io/en/latest/pkg_resources.html. The pkg_resources package is slated for removal as early as 2025-11-30. Refrain from using this package or pin to Setuptools<81.\n",
      "  import pkg_resources\n",
      "^C\n",
      "\n",
      "Aborted!\n",
      "\u001b[0m\u001b[?25h"
     ]
    }
   ],
   "source": [
    "#run this in the terminal\n",
    "#scp svenzi@euler.ethz.ch:/cluster/home/svenzi/unite_database/uniteDB/classifier.qza ~/FermentYOU/Data/classifier.qza"
   ]
  },
  {
   "cell_type": "code",
   "execution_count": 2,
   "id": "4f73ac5c-49a2-40ad-b882-cfa50bd2e5db",
   "metadata": {
    "execution": {
     "iopub.execute_input": "2025-10-21T08:15:37.031334Z",
     "iopub.status.busy": "2025-10-21T08:15:37.030312Z",
     "iopub.status.idle": "2025-10-21T08:17:59.469884Z",
     "shell.execute_reply": "2025-10-21T08:17:59.469054Z",
     "shell.execute_reply.started": "2025-10-21T08:15:37.031305Z"
    },
    "tags": []
   },
   "outputs": [
    {
     "name": "stdout",
     "output_type": "stream",
     "text": [
      "/opt/conda/lib/python3.10/site-packages/unifrac/__init__.py:9: UserWarning: pkg_resources is deprecated as an API. See https://setuptools.pypa.io/en/latest/pkg_resources.html. The pkg_resources package is slated for removal as early as 2025-11-30. Refrain from using this package or pin to Setuptools<81.\n",
      "  import pkg_resources\n"
     ]
    }
   ],
   "source": [
    "! qiime feature-classifier classify-sklearn \\\n",
    "    --i-classifier $data_dir/classifier.qza \\\n",
    "    --i-reads $data_dir/filtered-dada1-rep-seqs-highschool.qza \\\n",
    "    --o-classification $data_dir/taxonomy.qza"
   ]
  },
  {
   "cell_type": "code",
   "execution_count": 18,
   "id": "c28d6540-6a0c-4d29-b6f8-d62db57153e8",
   "metadata": {
    "execution": {
     "iopub.execute_input": "2025-10-13T13:41:21.815277Z",
     "iopub.status.busy": "2025-10-13T13:41:21.814151Z",
     "iopub.status.idle": "2025-10-13T13:42:21.351998Z",
     "shell.execute_reply": "2025-10-13T13:42:21.350140Z",
     "shell.execute_reply.started": "2025-10-13T13:41:21.815212Z"
    },
    "tags": []
   },
   "outputs": [
    {
     "name": "stdout",
     "output_type": "stream",
     "text": [
      "/opt/conda/lib/python3.10/site-packages/unifrac/__init__.py:9: UserWarning: pkg_resources is deprecated as an API. See https://setuptools.pypa.io/en/latest/pkg_resources.html. The pkg_resources package is slated for removal as early as 2025-11-30. Refrain from using this package or pin to Setuptools<81.\n",
      "  import pkg_resources\n"
     ]
    }
   ],
   "source": [
    "! qiime metadata tabulate \\\n",
    "    --m-input-file $data_dir/taxonomy.qza \\\n",
    "    --o-visualization $data_dir/taxonomy.qzv"
   ]
  },
  {
   "cell_type": "code",
   "execution_count": null,
   "id": "2a007966-1bf0-405f-88c2-d21ce695dcd6",
   "metadata": {},
   "outputs": [],
   "source": [
    "Visualization.load(f\"{data_dir}/taxonomy.qzv\")"
   ]
  }
 ],
 "metadata": {
  "kernelspec": {
   "display_name": "QIIME 2",
   "language": "python",
   "name": "python3"
  },
  "language_info": {
   "codemirror_mode": {
    "name": "ipython",
    "version": 3
   },
   "file_extension": ".py",
   "mimetype": "text/x-python",
   "name": "python",
   "nbconvert_exporter": "python",
   "pygments_lexer": "ipython3",
   "version": "3.10.14"
  }
 },
 "nbformat": 4,
 "nbformat_minor": 5
}
