{
 "cells": [
  {
   "cell_type": "markdown",
   "id": "cd14a681-5c22-43d9-bc1d-4e554d0136b1",
   "metadata": {},
   "source": [
    "Following Code was run directlely in the terminal on euler"
   ]
  },
  {
   "cell_type": "code",
   "execution_count": null,
   "id": "2f602784-a26e-471a-8ccf-748ed3c3ce74",
   "metadata": {},
   "outputs": [],
   "source": [
    "source ~/miniconda3/etc/profile.d/conda.sh\n",
    "conda activate qiime2-moshpit-2025.7\n",
    "cd /cluster/scratch/$USER\n",
    "\n",
    "#get DB (needs to be updated, with 9 just to check)\n",
    "echo \"Step 1: Loading DB...\"\n",
    "qiime rescript get-unite-data \\\n",
    "    --p-version 2025-02-19 \\\n",
    "    --p-taxon-group eukaryotes \\\n",
    "    --p-cluster-id dynamic \\\n",
    "    --p-no-singletons \\\n",
    "    --verbose \\\n",
    "    --output-dir uniteDB"
   ]
  },
  {
   "cell_type": "markdown",
   "id": "f05f1593-2e3b-443f-8b89-0f2d9e7a4442",
   "metadata": {},
   "source": [
    "This was submitted as a job in euler"
   ]
  },
  {
   "cell_type": "code",
   "execution_count": null,
   "id": "1a57b640-b7c7-4b7e-a1ae-c834bbb104f2",
   "metadata": {},
   "outputs": [],
   "source": [
    "#!/bin/bash\n",
    "#SBATCH --job-name=classifier_test\n",
    "#SBATCH --time=04:00:00\n",
    "#SBATCH --mem-per-cpu=8GB\n",
    "#SBATCH --cpus-per-task=8\n",
    "#SBATCH --output=taxonomy_%j.log\n",
    "\n",
    "#remove unhelpful taxonomy\n",
    "echo \"Step 1: Filtering sequences with unhelpful taxonomy...\"\n",
    "qiime taxa filter-seqs \\\n",
    "    --p-exclude Fungi_sp,mycota_sp,mycetes_sp \\\n",
    "    --i-taxonomy uniteDB/taxonomy.qza \\\n",
    "    --i-sequences uniteDB/sequences.qza \\\n",
    "    --o-filtered-sequences uniteDB/sequences-filtered.qza\n",
    "\n",
    "echo \"Step 2: Edit taxonomy...\"\n",
    "qiime rescript edit-taxonomy \\\n",
    "    --i-taxonomy uniteDB/taxonomy.qza \\\n",
    "    --o-edited-taxonomy uniteDB/taxonomy-no-SH.qza \\\n",
    "    --p-search-strings ';sh__.*' \\\n",
    "    --p-replacement-strings '' \\\n",
    "    --p-use-regex\n",
    "\n",
    "echo \"Step 3: Fit classifier...\"\n",
    "qiime feature-classifier fit-classifier-naive-bayes \\\n",
    "    --i-reference-reads uniteDB/sequences-filtered.qza \\\n",
    "    --i-reference-taxonomy uniteDB/taxonomy-no-SH.qza \\\n",
    "    --o-classifier uniteDB/classifier.qza\n",
    "# (Optional) verify success\n",
    "echo \"Completed whole Code on $(date)\""
   ]
  }
 ],
 "metadata": {
  "kernelspec": {
   "display_name": "QIIME 2",
   "language": "python",
   "name": "python3"
  },
  "language_info": {
   "codemirror_mode": {
    "name": "ipython",
    "version": 3
   },
   "file_extension": ".py",
   "mimetype": "text/x-python",
   "name": "python",
   "nbconvert_exporter": "python",
   "pygments_lexer": "ipython3",
   "version": "3.10.14"
  }
 },
 "nbformat": 4,
 "nbformat_minor": 5
}
