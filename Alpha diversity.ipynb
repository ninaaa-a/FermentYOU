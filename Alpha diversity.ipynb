{
 "cells": [
  {
   "cell_type": "markdown",
   "id": "48c7a944-6c34-4265-b114-7dc8dd633f5b",
   "metadata": {},
   "source": [
    "Code for Apha diversity analysis"
   ]
  },
  {
   "cell_type": "code",
   "execution_count": 1,
   "id": "a2aefe9f-ea87-4103-9052-cb31705d7dc0",
   "metadata": {
    "tags": []
   },
   "outputs": [],
   "source": [
    "# importing all required packages & notebook extensions at the start of the notebook\n",
    "import os\n",
    "import pandas as pd\n",
    "import qiime2 as q2\n",
    "from qiime2 import Visualization\n",
    "\n",
    "%matplotlib inline"
   ]
  },
  {
   "cell_type": "code",
   "execution_count": 3,
   "id": "333f54f7-595d-409f-9647-a250810c4841",
   "metadata": {
    "tags": []
   },
   "outputs": [],
   "source": [
    "#all variables\n",
    "Data_raw='Data/raw'\n",
    "Data_classified='Data/classified'\n",
    "Data_diversity='Data/diversity'"
   ]
  },
  {
   "cell_type": "code",
   "execution_count": 4,
   "id": "ea1860d0-8589-4508-b973-5093c1d806ca",
   "metadata": {
    "tags": []
   },
   "outputs": [
    {
     "name": "stdout",
     "output_type": "stream",
     "text": [
      "/opt/conda/lib/python3.10/site-packages/unifrac/__init__.py:9: UserWarning: pkg_resources is deprecated as an API. See https://setuptools.pypa.io/en/latest/pkg_resources.html. The pkg_resources package is slated for removal as early as 2025-11-30. Refrain from using this package or pin to Setuptools<81.\n",
      "  import pkg_resources\n",
      "\u001b[32mSaved FeatureTable[Frequency] to: Data/diversity/core-metrics-results/rarefied_table.qza\u001b[0m\n",
      "\u001b[32mSaved SampleData[AlphaDiversity] to: Data/diversity/core-metrics-results/observed_features_vector.qza\u001b[0m\n",
      "\u001b[32mSaved SampleData[AlphaDiversity] to: Data/diversity/core-metrics-results/shannon_vector.qza\u001b[0m\n",
      "\u001b[32mSaved SampleData[AlphaDiversity] to: Data/diversity/core-metrics-results/evenness_vector.qza\u001b[0m\n",
      "\u001b[32mSaved DistanceMatrix to: Data/diversity/core-metrics-results/jaccard_distance_matrix.qza\u001b[0m\n",
      "\u001b[32mSaved DistanceMatrix to: Data/diversity/core-metrics-results/bray_curtis_distance_matrix.qza\u001b[0m\n",
      "\u001b[32mSaved PCoAResults to: Data/diversity/core-metrics-results/jaccard_pcoa_results.qza\u001b[0m\n",
      "\u001b[32mSaved PCoAResults to: Data/diversity/core-metrics-results/bray_curtis_pcoa_results.qza\u001b[0m\n",
      "\u001b[32mSaved Visualization to: Data/diversity/core-metrics-results/jaccard_emperor.qzv\u001b[0m\n",
      "\u001b[32mSaved Visualization to: Data/diversity/core-metrics-results/bray_curtis_emperor.qzv\u001b[0m\n",
      "\u001b[0m\u001b[?25h"
     ]
    }
   ],
   "source": [
    "! qiime diversity core-metrics \\\n",
    "  --i-table $Data_classified/table-filtered.qza \\\n",
    "  --m-metadata-file $Data_raw/20250913_metadata_ITS.tsv\\\n",
    "  --p-sampling-depth 1500 \\\n",
    "  --output-dir $Data_diversity/core-metrics-results"
   ]
  },
  {
   "cell_type": "code",
   "execution_count": 10,
   "id": "bbf56804-a15b-4033-8d3f-7f4b4c1c348d",
   "metadata": {
    "tags": []
   },
   "outputs": [
    {
     "name": "stdout",
     "output_type": "stream",
     "text": [
      "/opt/conda/lib/python3.10/site-packages/unifrac/__init__.py:9: UserWarning: pkg_resources is deprecated as an API. See https://setuptools.pypa.io/en/latest/pkg_resources.html. The pkg_resources package is slated for removal as early as 2025-11-30. Refrain from using this package or pin to Setuptools<81.\n",
      "  import pkg_resources\n"
     ]
    }
   ],
   "source": [
    "! qiime kmerizer core-metrics \\\n",
    "  --i-table $Data_classified/table-filtered.qza \\\n",
    "  --i-sequences $Data_classified/rep-seqs-filtered.qza \\\n",
    "  --m-metadata-file $Data_raw/20250913_metadata_ITS.tsv \\\n",
    "  --p-sampling-depth 1500 \\\n",
    "  --p-kmer-size 8 \\\n",
    "  --output-dir $Data_diversity/kmerizer-results"
   ]
  },
  {
   "cell_type": "markdown",
   "id": "08bafa98-2123-49a3-bfcf-87753e1093a0",
   "metadata": {},
   "source": [
    "the kmerizer results are also further analyzed in the Beta diversity analysis"
   ]
  }
 ],
 "metadata": {
  "kernelspec": {
   "display_name": "QIIME 2",
   "language": "python",
   "name": "python3"
  },
  "language_info": {
   "codemirror_mode": {
    "name": "ipython",
    "version": 3
   },
   "file_extension": ".py",
   "mimetype": "text/x-python",
   "name": "python",
   "nbconvert_exporter": "python",
   "pygments_lexer": "ipython3",
   "version": "3.10.14"
  }
 },
 "nbformat": 4,
 "nbformat_minor": 5
}
