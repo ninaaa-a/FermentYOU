{
 "cells": [
  {
   "cell_type": "code",
   "execution_count": 1,
   "id": "b2577289-86fd-46e9-b3ad-8e4e22261ec2",
   "metadata": {},
   "outputs": [],
   "source": [
    "import os\n",
    "import pandas as pd\n",
    "from qiime2 import Visualization\n",
    "import matplotlib.pyplot as plt\n",
    "import numpy as np\n",
    "\n",
    "import qiime2 as q2\n",
    "\n",
    "%matplotlib inline"
   ]
  },
  {
   "cell_type": "code",
   "execution_count": 2,
   "id": "c85482e2-e89a-4abb-9541-243b1de341c8",
   "metadata": {},
   "outputs": [],
   "source": [
    "Data_raw = 'Data/raw'"
   ]
  },
  {
   "cell_type": "code",
   "execution_count": 3,
   "id": "175984ef-9e30-43e4-b2e4-c654581af2a1",
   "metadata": {
    "tags": []
   },
   "outputs": [],
   "source": [
    "Data_classified = 'Data/classified'"
   ]
  },
  {
   "cell_type": "code",
   "execution_count": 6,
   "id": "0db18cb7-13d7-48ab-8059-1adef37ed191",
   "metadata": {
    "tags": []
   },
   "outputs": [],
   "source": [
    "Data_visualization = 'Data/visualization'"
   ]
  },
  {
   "cell_type": "code",
   "execution_count": 19,
   "id": "ac3121c8-6bdd-4558-a6a9-14d05b8cf71d",
   "metadata": {
    "tags": []
   },
   "outputs": [
    {
     "name": "stdout",
     "output_type": "stream",
     "text": [
      "/opt/conda/lib/python3.10/site-packages/unifrac/__init__.py:9: UserWarning: pkg_resources is deprecated as an API. See https://setuptools.pypa.io/en/latest/pkg_resources.html. The pkg_resources package is slated for removal as early as 2025-11-30. Refrain from using this package or pin to Setuptools<81.\n",
      "  import pkg_resources\n",
      "\u001b[32mSaved Visualization to: Data/taxa-barplot.qzv\u001b[0m\n",
      "\u001b[0m\u001b[?25h"
     ]
    }
   ],
   "source": [
    "#Übersicht vor dem Filtern:\n",
    "\n",
    "! qiime taxa barplot \\\n",
    "  --i-table $Data_raw/modified-dada1-table-highschool.qza \\\n",
    "  --i-taxonomy $Data_raw/taxonomy.qza \\\n",
    "  --m-metadata-file $Data_raw/20250913_metadata_ITS.tsv \\\n",
    "  --o-visualization $Data_classified/taxa-barplot.qzv"
   ]
  },
  {
   "cell_type": "code",
   "execution_count": 4,
   "id": "e1e764fa-bdf1-45a7-947d-49c5b1184eb7",
   "metadata": {
    "tags": []
   },
   "outputs": [
    {
     "data": {
      "text/html": [
       "<div><img onload=\"(function(div, url){\n",
       "if (typeof require !== 'undefined') {\n",
       "    var baseURL = require.toUrl('').split('/').slice(0, -2).join('/');\n",
       "} else {\n",
       "    var baseURL = JSON.parse(\n",
       "        document.getElementById('jupyter-config-data').innerHTML\n",
       "    ).baseUrl.slice(0, -1);\n",
       "}\n",
       "url = baseURL + url;\n",
       "fetch(url).then(function(res) {\n",
       "    if (res.status === 404) {\n",
       "        div.innerHTML = 'Install QIIME 2 Jupyter extension with:<br />' +\n",
       "                        '<code>jupyter server extension enable --py qiime2' +\n",
       "                        ' --sys-prefix</code><br />then restart your server.' +\n",
       "                        '<br /><br />(Interactive output not available on ' +\n",
       "                        'static notebook viewer services like nbviewer.)';\n",
       "    } else if (res.status === 409) {\n",
       "        div.innerHTML = 'Visualization no longer in scope. Re-run this cell' +\n",
       "                        ' to see the visualization.';\n",
       "    } else if (res.ok) {\n",
       "        url = res.url;\n",
       "        div.innerHTML = '<iframe src=\\'' + url + '\\' style=\\'' +\n",
       "                        'width: 100%; height: 700px; border: 0;\\'>' +\n",
       "                        '</iframe><hr />Open in a: <a href=\\'' + url + '\\'' +\n",
       "                        ' target=\\'_blank\\'>new window</a>'\n",
       "    } else {\n",
       "        div.innerHTML = 'Something has gone wrong. Check notebook server for' +\n",
       "                        ' errors.';\n",
       "    }\n",
       "});\n",
       "})(this.parentElement, '/qiime2/redirect?location=/tmp/qiime2/jovyan/data/0ffa05ab-d362-4c99-8fa0-56bb571bdef6')\" src=\"data:image/gif;base64,R0lGODlhAQABAIAAAP///wAAACH5BAEAAAAALAAAAAABAAEAAAICRAEAOw==\" /></div>"
      ],
      "text/plain": [
       "<visualization: Visualization uuid: 0ffa05ab-d362-4c99-8fa0-56bb571bdef6>"
      ]
     },
     "execution_count": 4,
     "metadata": {},
     "output_type": "execute_result"
    }
   ],
   "source": [
    "Visualization.load(f\"{Data_classified}/taxa-barplot.qzv\")"
   ]
  },
  {
   "cell_type": "code",
   "execution_count": 10,
   "id": "c910d1ff-67cb-44c8-acbf-2d12177703ec",
   "metadata": {
    "tags": []
   },
   "outputs": [
    {
     "name": "stdout",
     "output_type": "stream",
     "text": [
      "/opt/conda/lib/python3.10/site-packages/unifrac/__init__.py:9: UserWarning: pkg_resources is deprecated as an API. See https://setuptools.pypa.io/en/latest/pkg_resources.html. The pkg_resources package is slated for removal as early as 2025-11-30. Refrain from using this package or pin to Setuptools<81.\n",
      "  import pkg_resources\n",
      "\u001b[32mSaved Visualization to: Data/modified-dada1-table-highschool.qzv\u001b[0m\n",
      "\u001b[0m\u001b[?25h"
     ]
    }
   ],
   "source": [
    "# Feature Table vor dem Filtern:\n",
    "\n",
    "! qiime feature-table summarize \\\n",
    "  --i-table Data_raw/modified-dada1-table-highschool.qza \\\n",
    "  --o-visualization Data_visualization/modified-dada1-table-highschool.qzv"
   ]
  },
  {
   "cell_type": "code",
   "execution_count": 7,
   "id": "0946a9ac-707e-4021-8cdc-5540543076ff",
   "metadata": {
    "tags": []
   },
   "outputs": [
    {
     "data": {
      "text/html": [
       "<div><img onload=\"(function(div, url){\n",
       "if (typeof require !== 'undefined') {\n",
       "    var baseURL = require.toUrl('').split('/').slice(0, -2).join('/');\n",
       "} else {\n",
       "    var baseURL = JSON.parse(\n",
       "        document.getElementById('jupyter-config-data').innerHTML\n",
       "    ).baseUrl.slice(0, -1);\n",
       "}\n",
       "url = baseURL + url;\n",
       "fetch(url).then(function(res) {\n",
       "    if (res.status === 404) {\n",
       "        div.innerHTML = 'Install QIIME 2 Jupyter extension with:<br />' +\n",
       "                        '<code>jupyter server extension enable --py qiime2' +\n",
       "                        ' --sys-prefix</code><br />then restart your server.' +\n",
       "                        '<br /><br />(Interactive output not available on ' +\n",
       "                        'static notebook viewer services like nbviewer.)';\n",
       "    } else if (res.status === 409) {\n",
       "        div.innerHTML = 'Visualization no longer in scope. Re-run this cell' +\n",
       "                        ' to see the visualization.';\n",
       "    } else if (res.ok) {\n",
       "        url = res.url;\n",
       "        div.innerHTML = '<iframe src=\\'' + url + '\\' style=\\'' +\n",
       "                        'width: 100%; height: 700px; border: 0;\\'>' +\n",
       "                        '</iframe><hr />Open in a: <a href=\\'' + url + '\\'' +\n",
       "                        ' target=\\'_blank\\'>new window</a>'\n",
       "    } else {\n",
       "        div.innerHTML = 'Something has gone wrong. Check notebook server for' +\n",
       "                        ' errors.';\n",
       "    }\n",
       "});\n",
       "})(this.parentElement, '/qiime2/redirect?location=/tmp/qiime2/jovyan/data/e03be014-c903-494a-a518-1ddf2815bc1d')\" src=\"data:image/gif;base64,R0lGODlhAQABAIAAAP///wAAACH5BAEAAAAALAAAAAABAAEAAAICRAEAOw==\" /></div>"
      ],
      "text/plain": [
       "<visualization: Visualization uuid: e03be014-c903-494a-a518-1ddf2815bc1d>"
      ]
     },
     "execution_count": 7,
     "metadata": {},
     "output_type": "execute_result"
    }
   ],
   "source": [
    "Visualization.load(f\"{Data_visualization}/modified-dada1-table-highschool.qzv\")"
   ]
  },
  {
   "cell_type": "code",
   "execution_count": 6,
   "id": "09111007-69fc-408f-a3c2-153857ee3b3d",
   "metadata": {
    "tags": []
   },
   "outputs": [
    {
     "name": "stdout",
     "output_type": "stream",
     "text": [
      "/opt/conda/lib/python3.10/site-packages/unifrac/__init__.py:9: UserWarning: pkg_resources is deprecated as an API. See https://setuptools.pypa.io/en/latest/pkg_resources.html. The pkg_resources package is slated for removal as early as 2025-11-30. Refrain from using this package or pin to Setuptools<81.\n",
      "  import pkg_resources\n",
      "\u001b[32mSaved FeatureTable[Frequency] to: Data/table-filtered.qza\u001b[0m\n",
      "\u001b[0m\u001b[?25h"
     ]
    }
   ],
   "source": [
    "#Feature Table nach dem Filtern:\n",
    "\n",
    "! qiime taxa filter-table \\\n",
    "    --i-table $Data_raw/modified-dada1-table-highschool.qza \\\n",
    "    --i-taxonomy $Data_raw/taxonomy.qza \\\n",
    "    --p-exclude mitochondria,chloroplast \\\n",
    "    --p-include o__ \\\n",
    "    --o-filtered-table $Data_classified/table-filtered.qza"
   ]
  },
  {
   "cell_type": "code",
   "execution_count": 8,
   "id": "33e3ea76-ef7f-4d36-a7cc-c7275d6194b7",
   "metadata": {
    "tags": []
   },
   "outputs": [
    {
     "name": "stdout",
     "output_type": "stream",
     "text": [
      "/opt/conda/lib/python3.10/site-packages/unifrac/__init__.py:9: UserWarning: pkg_resources is deprecated as an API. See https://setuptools.pypa.io/en/latest/pkg_resources.html. The pkg_resources package is slated for removal as early as 2025-11-30. Refrain from using this package or pin to Setuptools<81.\n",
      "  import pkg_resources\n",
      "\u001b[32mSaved Visualization to: Data/table-filtered.qzv\u001b[0m\n",
      "\u001b[0m\u001b[?25h"
     ]
    }
   ],
   "source": [
    "! qiime feature-table summarize \\\n",
    "  --i-table Data_classified/table-filtered.qza \\\n",
    "  --o-visualization Data_classified/table-filtered.qzv"
   ]
  },
  {
   "cell_type": "code",
   "execution_count": 9,
   "id": "41dad23a-6400-4279-a34b-3d4af549ba07",
   "metadata": {
    "tags": []
   },
   "outputs": [
    {
     "data": {
      "text/html": [
       "<div><img onload=\"(function(div, url){\n",
       "if (typeof require !== 'undefined') {\n",
       "    var baseURL = require.toUrl('').split('/').slice(0, -2).join('/');\n",
       "} else {\n",
       "    var baseURL = JSON.parse(\n",
       "        document.getElementById('jupyter-config-data').innerHTML\n",
       "    ).baseUrl.slice(0, -1);\n",
       "}\n",
       "url = baseURL + url;\n",
       "fetch(url).then(function(res) {\n",
       "    if (res.status === 404) {\n",
       "        div.innerHTML = 'Install QIIME 2 Jupyter extension with:<br />' +\n",
       "                        '<code>jupyter server extension enable --py qiime2' +\n",
       "                        ' --sys-prefix</code><br />then restart your server.' +\n",
       "                        '<br /><br />(Interactive output not available on ' +\n",
       "                        'static notebook viewer services like nbviewer.)';\n",
       "    } else if (res.status === 409) {\n",
       "        div.innerHTML = 'Visualization no longer in scope. Re-run this cell' +\n",
       "                        ' to see the visualization.';\n",
       "    } else if (res.ok) {\n",
       "        url = res.url;\n",
       "        div.innerHTML = '<iframe src=\\'' + url + '\\' style=\\'' +\n",
       "                        'width: 100%; height: 700px; border: 0;\\'>' +\n",
       "                        '</iframe><hr />Open in a: <a href=\\'' + url + '\\'' +\n",
       "                        ' target=\\'_blank\\'>new window</a>'\n",
       "    } else {\n",
       "        div.innerHTML = 'Something has gone wrong. Check notebook server for' +\n",
       "                        ' errors.';\n",
       "    }\n",
       "});\n",
       "})(this.parentElement, '/qiime2/redirect?location=/tmp/qiime2/jovyan/data/979c8ac0-9ae0-4fa5-9992-2e1980539163')\" src=\"data:image/gif;base64,R0lGODlhAQABAIAAAP///wAAACH5BAEAAAAALAAAAAABAAEAAAICRAEAOw==\" /></div>"
      ],
      "text/plain": [
       "<visualization: Visualization uuid: 979c8ac0-9ae0-4fa5-9992-2e1980539163>"
      ]
     },
     "execution_count": 9,
     "metadata": {},
     "output_type": "execute_result"
    }
   ],
   "source": [
    "# Feature Table Visualisierung nach dem Filtern:\n",
    "\n",
    "Visualization.load(f\"{Data_classified}/table-filtered.qzv\")"
   ]
  },
  {
   "cell_type": "code",
   "execution_count": 18,
   "id": "eb8dfa26-3d55-442c-8a78-0d76106f3d9f",
   "metadata": {
    "tags": []
   },
   "outputs": [
    {
     "data": {
      "text/html": [
       "<div><img onload=\"(function(div, url){\n",
       "if (typeof require !== 'undefined') {\n",
       "    var baseURL = require.toUrl('').split('/').slice(0, -2).join('/');\n",
       "} else {\n",
       "    var baseURL = JSON.parse(\n",
       "        document.getElementById('jupyter-config-data').innerHTML\n",
       "    ).baseUrl.slice(0, -1);\n",
       "}\n",
       "url = baseURL + url;\n",
       "fetch(url).then(function(res) {\n",
       "    if (res.status === 404) {\n",
       "        div.innerHTML = 'Install QIIME 2 Jupyter extension with:<br />' +\n",
       "                        '<code>jupyter server extension enable --py qiime2' +\n",
       "                        ' --sys-prefix</code><br />then restart your server.' +\n",
       "                        '<br /><br />(Interactive output not available on ' +\n",
       "                        'static notebook viewer services like nbviewer.)';\n",
       "    } else if (res.status === 409) {\n",
       "        div.innerHTML = 'Visualization no longer in scope. Re-run this cell' +\n",
       "                        ' to see the visualization.';\n",
       "    } else if (res.ok) {\n",
       "        url = res.url;\n",
       "        div.innerHTML = '<iframe src=\\'' + url + '\\' style=\\'' +\n",
       "                        'width: 100%; height: 700px; border: 0;\\'>' +\n",
       "                        '</iframe><hr />Open in a: <a href=\\'' + url + '\\'' +\n",
       "                        ' target=\\'_blank\\'>new window</a>'\n",
       "    } else {\n",
       "        div.innerHTML = 'Something has gone wrong. Check notebook server for' +\n",
       "                        ' errors.';\n",
       "    }\n",
       "});\n",
       "})(this.parentElement, '/qiime2/redirect?location=/tmp/qiime2/jovyan/data/47d42ee6-4aa9-4ea7-bbd3-3fb6ffa54e68')\" src=\"data:image/gif;base64,R0lGODlhAQABAIAAAP///wAAACH5BAEAAAAALAAAAAABAAEAAAICRAEAOw==\" /></div>"
      ],
      "text/plain": [
       "<visualization: Visualization uuid: 47d42ee6-4aa9-4ea7-bbd3-3fb6ffa54e68>"
      ]
     },
     "execution_count": 18,
     "metadata": {},
     "output_type": "execute_result"
    }
   ],
   "source": [
    "# Visualisierung Sequenzen vor dem Filtern:\n",
    "\n",
    "Visualization.load(f\"{Data_raw}/filtered-dada1-rep-seqs-highschool.qzv\")"
   ]
  },
  {
   "cell_type": "code",
   "execution_count": 13,
   "id": "7d5c30f2-ab1d-47bb-bad2-6bfcb340bc25",
   "metadata": {
    "tags": []
   },
   "outputs": [
    {
     "name": "stdout",
     "output_type": "stream",
     "text": [
      "/opt/conda/lib/python3.10/site-packages/unifrac/__init__.py:9: UserWarning: pkg_resources is deprecated as an API. See https://setuptools.pypa.io/en/latest/pkg_resources.html. The pkg_resources package is slated for removal as early as 2025-11-30. Refrain from using this package or pin to Setuptools<81.\n",
      "  import pkg_resources\n",
      "\u001b[32mSaved FeatureData[Sequence] to: Data/rep-seqs-filtered.qza\u001b[0m\n",
      "\u001b[0m\u001b[?25h"
     ]
    }
   ],
   "source": [
    "#Sequenzen Filtern:\n",
    "\n",
    "! qiime taxa filter-seqs \\\n",
    "    --i-sequences $Data_raw/filtered-dada1-rep-seqs-highschool.qza \\\n",
    "    --i-taxonomy $Data_raw/taxonomy.qza \\\n",
    "    --p-exclude mitochondria,chloroplast \\\n",
    "    --p-include c__ \\\n",
    "    --o-filtered-sequences $Data_classified/rep-seqs-filtered.qza"
   ]
  },
  {
   "cell_type": "code",
   "execution_count": 15,
   "id": "cc09a22d-ae5b-4a88-ae7f-8319e5ea3422",
   "metadata": {},
   "outputs": [
    {
     "name": "stdout",
     "output_type": "stream",
     "text": [
      "/opt/conda/lib/python3.10/site-packages/unifrac/__init__.py:9: UserWarning: pkg_resources is deprecated as an API. See https://setuptools.pypa.io/en/latest/pkg_resources.html. The pkg_resources package is slated for removal as early as 2025-11-30. Refrain from using this package or pin to Setuptools<81.\n",
      "  import pkg_resources\n",
      "\u001b[32mSaved Visualization to: Data/rep-seqs-filtered.qzv\u001b[0m\n",
      "\u001b[0m\u001b[?25h"
     ]
    }
   ],
   "source": [
    "! qiime feature-table tabulate-seqs \\\n",
    "  --i-data Data_classified/rep-seqs-filtered.qza \\\n",
    "  --o-visualization Data_classified/rep-seqs-filtered.qzv"
   ]
  },
  {
   "cell_type": "code",
   "execution_count": 20,
   "id": "fe042226-e88a-476a-ad52-c41e3e462dae",
   "metadata": {
    "tags": []
   },
   "outputs": [
    {
     "data": {
      "text/html": [
       "<div><img onload=\"(function(div, url){\n",
       "if (typeof require !== 'undefined') {\n",
       "    var baseURL = require.toUrl('').split('/').slice(0, -2).join('/');\n",
       "} else {\n",
       "    var baseURL = JSON.parse(\n",
       "        document.getElementById('jupyter-config-data').innerHTML\n",
       "    ).baseUrl.slice(0, -1);\n",
       "}\n",
       "url = baseURL + url;\n",
       "fetch(url).then(function(res) {\n",
       "    if (res.status === 404) {\n",
       "        div.innerHTML = 'Install QIIME 2 Jupyter extension with:<br />' +\n",
       "                        '<code>jupyter server extension enable --py qiime2' +\n",
       "                        ' --sys-prefix</code><br />then restart your server.' +\n",
       "                        '<br /><br />(Interactive output not available on ' +\n",
       "                        'static notebook viewer services like nbviewer.)';\n",
       "    } else if (res.status === 409) {\n",
       "        div.innerHTML = 'Visualization no longer in scope. Re-run this cell' +\n",
       "                        ' to see the visualization.';\n",
       "    } else if (res.ok) {\n",
       "        url = res.url;\n",
       "        div.innerHTML = '<iframe src=\\'' + url + '\\' style=\\'' +\n",
       "                        'width: 100%; height: 700px; border: 0;\\'>' +\n",
       "                        '</iframe><hr />Open in a: <a href=\\'' + url + '\\'' +\n",
       "                        ' target=\\'_blank\\'>new window</a>'\n",
       "    } else {\n",
       "        div.innerHTML = 'Something has gone wrong. Check notebook server for' +\n",
       "                        ' errors.';\n",
       "    }\n",
       "});\n",
       "})(this.parentElement, '/qiime2/redirect?location=/tmp/qiime2/jovyan/data/c4f0abff-9cf5-4a9a-8625-2cd2968026ca')\" src=\"data:image/gif;base64,R0lGODlhAQABAIAAAP///wAAACH5BAEAAAAALAAAAAABAAEAAAICRAEAOw==\" /></div>"
      ],
      "text/plain": [
       "<visualization: Visualization uuid: c4f0abff-9cf5-4a9a-8625-2cd2968026ca>"
      ]
     },
     "execution_count": 20,
     "metadata": {},
     "output_type": "execute_result"
    }
   ],
   "source": [
    "# Visualisierung Sequenzen nach dem Filtern:\n",
    "\n",
    "Visualization.load(f\"{Data_classified}/rep-seqs-filtered.qzv\")"
   ]
  }
 ],
 "metadata": {
  "kernelspec": {
   "display_name": "QIIME 2",
   "language": "python",
   "name": "python3"
  },
  "language_info": {
   "codemirror_mode": {
    "name": "ipython",
    "version": 3
   },
   "file_extension": ".py",
   "mimetype": "text/x-python",
   "name": "python",
   "nbconvert_exporter": "python",
   "pygments_lexer": "ipython3",
   "version": "3.10.14"
  }
 },
 "nbformat": 4,
 "nbformat_minor": 5
}
