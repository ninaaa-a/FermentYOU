{
 "cells": [
  {
   "cell_type": "code",
   "execution_count": null,
   "id": "b2577289-86fd-46e9-b3ad-8e4e22261ec2",
   "metadata": {},
   "outputs": [],
   "source": [
    "import os\n",
    "import pandas as pd\n",
    "from qiime2 import Visualization\n",
    "import matplotlib.pyplot as plt\n",
    "import numpy as np\n",
    "\n",
    "import qiime2 as q2\n",
    "\n",
    "%matplotlib inline"
   ]
  },
  {
   "cell_type": "code",
   "execution_count": null,
   "id": "c85482e2-e89a-4abb-9541-243b1de341c8",
   "metadata": {},
   "outputs": [],
   "source": [
    "Data = 'Data'"
   ]
  },
  {
   "cell_type": "code",
   "execution_count": null,
   "id": "ee94e4ce-f9b8-4969-936c-01200c2a365c",
   "metadata": {},
   "outputs": [],
   "source": [
    "qiime tools import \\\n",
    "  --type 'SampleData[SequencesWithQuality]' \\\n",
    "  --input-path path_to_your_fastq_folder \\\n",
    "  --input-format CasavaOneEightSingleLanePerSampleDirFmt \\\n",
    "  --output-path demux.qza"
   ]
  },
  {
   "cell_type": "code",
   "execution_count": null,
   "id": "2c79e33f-6438-469b-b1db-69879c555591",
   "metadata": {},
   "outputs": [],
   "source": [
    "#demux.qza kann nur mit sequenzen machen\n",
    "qiime dada2 denoise-single \\\n",
    "  --i-demultiplexed-seqs demux.qza \\\n",
    "  --p-trim-left 0 \\\n",
    "  --p-trunc-len 250 \\\n",
    "  --o-table table.qza \\\n",
    "  --o-representative-sequences rep-seqs.qza \\\n",
    "  --o-denoising-stats denoising-stats.qza"
   ]
  },
  {
   "cell_type": "code",
   "execution_count": null,
   "id": "11767346-7e14-4c2e-81c8-922bc9690cb6",
   "metadata": {},
   "outputs": [],
   "source": [
    "#uns fehlt table.qza????\n",
    "! qiime taxa filter-table \\\n",
    "    --i-table $Data/table.qza \\\n",
    "    --i-taxonomy $Data/taxonomy.qza \\\n",
    "    --p-exclude mitochondria,chloroplast \\\n",
    "    --p-include o__ \\\n",
    "    --o-filtered-table $Data/table-filtered.qza\n",
    "\n",
    "! qiime taxa filter-seqs \\\n",
    "    --i-sequences $Data/rep-seqs.qza \\\n",
    "    --i-taxonomy $Data/taxonomy.qza \\\n",
    "    --p-exclude mitochondria,chloroplast \\\n",
    "    --p-include c__ \\\n",
    "    --o-filtered-sequences $Data/rep-seqs-filtered.qza"
   ]
  },
  {
   "cell_type": "code",
   "execution_count": null,
   "id": "cc09a22d-ae5b-4a88-ae7f-8319e5ea3422",
   "metadata": {},
   "outputs": [],
   "source": [
    "taxa = q2.Artifact.load(f'{Data}/taxonomy.qza')\n",
    "# view as a `pandas.DataFrame`. Note: Only some Artifact types can be transformed to DataFrames\n",
    "taxa = taxa.view(pd.DataFrame)"
   ]
  }
 ],
 "metadata": {
  "kernelspec": {
   "display_name": "QIIME 2",
   "language": "python",
   "name": "python3"
  },
  "language_info": {
   "codemirror_mode": {
    "name": "ipython",
    "version": 3
   },
   "file_extension": ".py",
   "mimetype": "text/x-python",
   "name": "python",
   "nbconvert_exporter": "python",
   "pygments_lexer": "ipython3",
   "version": "3.10.14"
  }
 },
 "nbformat": 4,
 "nbformat_minor": 5
}
