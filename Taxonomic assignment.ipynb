{
 "cells": [
  {
   "cell_type": "code",
   "execution_count": null,
   "id": "bcea9f5a-51fd-42a6-b055-aad64f74ee98",
   "metadata": {},
   "outputs": [],
   "source": [
    "#we want to work with the unite database"
   ]
  },
  {
   "cell_type": "code",
   "execution_count": null,
   "id": "7eeb3a1b-002a-479b-8264-2eb4729c8b52",
   "metadata": {},
   "outputs": [],
   "source": [
    "import os\n",
    "import pandas as pd\n",
    "from qiime2 import Visualization\n",
    "import matplotlib.pyplot as plt\n",
    "import numpy as np\n",
    "\n",
    "import qiime2 as q2\n",
    "\n",
    "%matplotlib inline\n",
    "\n",
    "# location of this week's data and all the results produced by this notebook \n",
    "# - this should be a path relative to your working directory\n",
    "data_dir = 'Data'"
   ]
  },
  {
   "cell_type": "code",
   "execution_count": null,
   "id": "5074022e-a021-4094-b768-84532e5a65d3",
   "metadata": {},
   "outputs": [],
   "source": [
    "#run this in the terminal\n",
    "#scp svenzi@euler.ethz.ch:/cluster/home/svenzi/unite_database/uniteDB/classifier.qza ~/FermentYOU/Data/classifier.qza"
   ]
  },
  {
   "cell_type": "code",
   "execution_count": null,
   "id": "f327c6db-caff-4509-9490-e2c533512e31",
   "metadata": {},
   "outputs": [],
   "source": [
    "#job to submit the classification to Euler\n",
    "cat > classify_taxonomy.sh << 'EOF'\n",
    "#!/bin/bash\n",
    "#SBATCH --job-name=classify_taxonomy\n",
    "#SBATCH --time=04:00:00\n",
    "#SBATCH --mem-per-cpu=32G\n",
    "#SBATCH --cpus-per-task=4\n",
    "#SBATCH --output=classify_%j.out\n",
    "#SBATCH --error=classify_%j.err\n",
    "\n",
    "# Exit on error\n",
    "set -e\n",
    "\n",
    "# Activate QIIME2 environment\n",
    "source ~/.bashrc\n",
    "conda activate qiime2-moshpit-2025.7\n",
    "\n",
    "# Set variables\n",
    "CLASSIFIER=/cluster/home/svenzi/classifier.qza\n",
    "READS=/cluster/home/svenzi/data_dir/ITS/filtered-dada1-rep-seqs-highschool.qza\n",
    "OUTPUT_DIR=/cluster/home/svenzi/taxonomy_output\n",
    "\n",
    "# Create output directory if it doesn't exist\n",
    "mkdir -p $OUTPUT_DIR\n",
    "\n",
    "# Run classification\n",
    "qiime feature-classifier classify-sklearn \\\n",
    "    --i-classifier $CLASSIFIER \\\n",
    "    --i-reads $READS \\\n",
    "    --o-classification $OUTPUT_DIR/taxonomy.qza \\\n",
    "    --p-n-jobs 4\n",
    "\n",
    "# Create visualization\n",
    "qiime metadata tabulate \\\n",
    "    --m-input-file $OUTPUT_DIR/taxonomy.qza \\\n",
    "    --o-visualization $OUTPUT_DIR/taxonomy.qzv\n",
    "\n",
    "echo \"Job completed successfully!\"\n",
    "EOF\n",
    "\n",
    "# Then submit\n",
    "sbatch classify_taxonomy.sh"
   ]
  },
  {
   "cell_type": "code",
   "execution_count": null,
   "id": "a146fe63-f52f-4e7d-a8c3-062286fbbc82",
   "metadata": {},
   "outputs": [],
   "source": [
    "#copy the taxonomy files to JupyterHub, run this command in the terminal\n",
    "#scp svenzi@euler.ethz.ch:/cluster/home/svenzi/taxonomy_output/taxonomy.qza Data/\n",
    "#scp svenzi@euler.ethz.ch:/cluster/home/svenzi/taxonomy_output/taxonomy.qzv Data/"
   ]
  },
  {
   "cell_type": "code",
   "execution_count": null,
   "id": "c648d479-8942-43e1-b3cf-1396c86d1a7e",
   "metadata": {},
   "outputs": [],
   "source": [
    "#check out the type of the downloaded files\n",
    "! qiime tools peek $data_dir/taxonomy.qza"
   ]
  }
 ],
 "metadata": {
  "kernelspec": {
   "display_name": "QIIME 2",
   "language": "python",
   "name": "python3"
  },
  "language_info": {
   "codemirror_mode": {
    "name": "ipython",
    "version": 3
   },
   "file_extension": ".py",
   "mimetype": "text/x-python",
   "name": "python",
   "nbconvert_exporter": "python",
   "pygments_lexer": "ipython3",
   "version": "3.10.14"
  }
 },
 "nbformat": 4,
 "nbformat_minor": 5
}
