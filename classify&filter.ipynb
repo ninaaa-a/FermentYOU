{
 "cells": [
  {
   "cell_type": "markdown",
   "id": "6bd7c2cc-8ec1-450a-b6ca-1e0084e37ae9",
   "metadata": {},
   "source": [
    "because are dataset is already denoised, they are already truncated & we don't need to know wheter they are paired or single end reads because they are already assembled"
   ]
  },
  {
   "cell_type": "markdown",
   "id": "892382ae-58c8-4579-8264-e2431b146d60",
   "metadata": {
    "tags": []
   },
   "source": [
    "### Classifiying"
   ]
  },
  {
   "cell_type": "code",
   "execution_count": 1,
   "id": "2737b077-df23-4f47-ae10-5df9d98f1108",
   "metadata": {},
   "outputs": [],
   "source": [
    "import os\n",
    "import pandas as pd\n",
    "from qiime2 import Visualization\n",
    "import matplotlib.pyplot as plt\n",
    "import numpy as np\n",
    "\n",
    "import qiime2 as q2\n",
    "\n",
    "%matplotlib inline\n",
    "\n",
    "\n",
    "Data = 'Data'"
   ]
  },
  {
   "cell_type": "code",
   "execution_count": 8,
   "id": "e897e1e8-ca37-42d4-9735-3de552b7a073",
   "metadata": {
    "tags": []
   },
   "outputs": [
    {
     "name": "stdout",
     "output_type": "stream",
     "text": [
      "/opt/conda/lib/python3.10/site-packages/unifrac/__init__.py:9: UserWarning: pkg_resources is deprecated as an API. See https://setuptools.pypa.io/en/latest/pkg_resources.html. The pkg_resources package is slated for removal as early as 2025-11-30. Refrain from using this package or pin to Setuptools<81.\n",
      "  import pkg_resources\n",
      "\u001b[32mImported Data/UNITE_dynamic/sh_refs_qiime_ver10_dynamic_19.02.2025.fasta as DNASequencesDirectoryFormat to Data/processed/unite-ref-seqs.qza\u001b[0m\n",
      "\u001b[0m\u001b[?25h/opt/conda/lib/python3.10/site-packages/unifrac/__init__.py:9: UserWarning: pkg_resources is deprecated as an API. See https://setuptools.pypa.io/en/latest/pkg_resources.html. The pkg_resources package is slated for removal as early as 2025-11-30. Refrain from using this package or pin to Setuptools<81.\n",
      "  import pkg_resources\n",
      "\u001b[32mImported Data/UNITE_dynamic/sh_taxonomy_qiime_ver10_dynamic_19.02.2025.txt as HeaderlessTSVTaxonomyFormat to Data/processed/unite-ref-taxonomy.qza\u001b[0m\n",
      "\u001b[0m\u001b[?25h/opt/conda/lib/python3.10/site-packages/unifrac/__init__.py:9: UserWarning: pkg_resources is deprecated as an API. See https://setuptools.pypa.io/en/latest/pkg_resources.html. The pkg_resources package is slated for removal as early as 2025-11-30. Refrain from using this package or pin to Setuptools<81.\n",
      "  import pkg_resources\n"
     ]
    }
   ],
   "source": [
    "# 1. Import reference sequences\n",
    "!qiime tools import \\\n",
    "  --type 'FeatureData[Sequence]' \\\n",
    "  --input-path Data/UNITE_dynamic/sh_refs_qiime_ver10_dynamic_19.02.2025.fasta \\\n",
    "  --output-path Data/processed/unite-ref-seqs.qza\n",
    "\n",
    "# 2. Import taxonomy\n",
    "!qiime tools import \\\n",
    "  --type 'FeatureData[Taxonomy]' \\\n",
    "  --input-format HeaderlessTSVTaxonomyFormat \\\n",
    "  --input-path Data/UNITE_dynamic/sh_taxonomy_qiime_ver10_dynamic_19.02.2025.txt \\\n",
    "  --output-path Data/processed/unite-ref-taxonomy.qza\n",
    "\n",
    "# 3. Train the classifier\n",
    "#!qiime feature-classifier fit-classifier-naive-bayes \\\n",
    "#  --i-reference-reads Data/processed/unite-ref-seqs.qza \\\n",
    "#  --i-reference-taxonomy Data/processed/unite-ref-taxonomy.qza \\\n",
    "#  --o-classifier Data/processed/unite-dynamic-classifier.qza\n",
    "\n",
    "! qiime feature-classifier fit-classifier-naive-bayes \\\n",
    "    --i-reference-reads $Data/processed/unite-ref-seqs.qza \\\n",
    "    --i-reference-taxonomy $Data/processed/unite-ref-taxonomy.qza \\\n",
    "    --p-classify--chunk-size 2000 \\\n",
    "    --o-classifier $Data/processed/unite-dynamic-classifier.qza\n",
    "    "
   ]
  },
  {
   "cell_type": "markdown",
   "id": "e4b74ac4-c7ff-440b-84f0-92096e6105f0",
   "metadata": {},
   "source": [
    "dereplication for lower Mem use"
   ]
  },
  {
   "cell_type": "code",
   "execution_count": 18,
   "id": "d57291ab-9287-43b4-93b4-5014ee925e2d",
   "metadata": {
    "tags": []
   },
   "outputs": [
    {
     "name": "stdout",
     "output_type": "stream",
     "text": [
      "/opt/conda/lib/python3.10/site-packages/unifrac/__init__.py:9: UserWarning: pkg_resources is deprecated as an API. See https://setuptools.pypa.io/en/latest/pkg_resources.html. The pkg_resources package is slated for removal as early as 2025-11-30. Refrain from using this package or pin to Setuptools<81.\n",
      "  import pkg_resources\n",
      "\u001b[32mSaved FeatureData[Sequence] to: Data/processed/unite-ref-seqs-lca.qza\u001b[0m\n",
      "\u001b[32mSaved FeatureData[Taxonomy] to: Data/processed/unite-ref-taxonomy-lca.qza\u001b[0m\n",
      "\u001b[0m\u001b[?25h"
     ]
    }
   ],
   "source": [
    "! qiime rescript dereplicate \\\n",
    "    --i-sequences Data/processed/unite-ref-seqs.qza \\\n",
    "    --i-taxa Data/processed/unite-ref-taxonomy.qza \\\n",
    "    --p-threads 3 \\\n",
    "    --p-mode 'lca' \\\n",
    "    --o-dereplicated-sequences Data/processed/unite-ref-seqs-lca.qza \\\n",
    "    --o-dereplicated-taxa  Data/processed/unite-ref-taxonomy-lca.qza"
   ]
  },
  {
   "cell_type": "markdown",
   "id": "263480e3-c0f4-43ca-85ba-6dabee5fc8ca",
   "metadata": {},
   "source": [
    "remove sequences with unhelpful taxonomy to reduce size"
   ]
  },
  {
   "cell_type": "code",
   "execution_count": 30,
   "id": "da67734c-34a8-4a49-adea-ff492c726c3e",
   "metadata": {
    "tags": []
   },
   "outputs": [
    {
     "name": "stdout",
     "output_type": "stream",
     "text": [
      "/opt/conda/lib/python3.10/site-packages/unifrac/__init__.py:9: UserWarning: pkg_resources is deprecated as an API. See https://setuptools.pypa.io/en/latest/pkg_resources.html. The pkg_resources package is slated for removal as early as 2025-11-30. Refrain from using this package or pin to Setuptools<81.\n",
      "  import pkg_resources\n",
      "\u001b[31m\u001b[1mPlugin error from taxa:\n",
      "\n",
      "  All features were filtered, resulting in an empty collection of feature sequences.\n",
      "\n",
      "Debug info has been saved to /tmp/qiime2-q2cli-err-9qygxcl0.log\u001b[0m\n",
      "\u001b[0m\u001b[?25h"
     ]
    }
   ],
   "source": [
    "! qiime taxa filter-seqs \\\n",
    "    --p-include Fungi_sp \\\n",
    "    --p-exclude \"Unassigned,Ambiguous_taxa,Incertae_sedis,Chloroplast,Mitochondria,Viridiplantae,Metazoa,Alveolata\" \\\n",
    "    --i-taxonomy Data/processed/unite-ref-taxonomy-lca.qza\\\n",
    "    --i-sequences Data/processed/unite-ref-seqs-lca.qza \\\n",
    "    --o-filtered-sequences Data/processed/unite-ref-seqs-lca-filtered.qza"
   ]
  },
  {
   "cell_type": "code",
   "execution_count": 34,
   "id": "ed44d519-b261-41b0-8583-18d8357cb9a7",
   "metadata": {
    "tags": []
   },
   "outputs": [
    {
     "name": "stdout",
     "output_type": "stream",
     "text": [
      "/opt/conda/lib/python3.10/site-packages/unifrac/__init__.py:9: UserWarning: pkg_resources is deprecated as an API. See https://setuptools.pypa.io/en/latest/pkg_resources.html. The pkg_resources package is slated for removal as early as 2025-11-30. Refrain from using this package or pin to Setuptools<81.\n",
      "  import pkg_resources\n",
      "\u001b[32mSaved Visualization to: Data/processed/taxonomy-summary.qzv\u001b[0m\n",
      "\u001b[0m\u001b[?25h"
     ]
    }
   ],
   "source": [
    "!qiime metadata tabulate \\\n",
    "  --m-input-file Data/processed/unite-ref-taxonomy-lca.qza \\\n",
    "  --o-visualization Data/processed/taxonomy-summary.qzv"
   ]
  },
  {
   "cell_type": "markdown",
   "id": "995770c7-20bc-40a7-9790-cd26c977abde",
   "metadata": {},
   "source": [
    "this shows that these are all already Fungis on species level and I don't know which we can kick out on lower level; we should not just use the Fungal DB because then misclassification of host DB and others is quite high (if you just train on fungal ITS, everything starts to look like fungal\n",
    "no singleton"
   ]
  },
  {
   "cell_type": "code",
   "execution_count": 27,
   "id": "4c783910-5dae-410d-9da7-1e06453313eb",
   "metadata": {
    "tags": []
   },
   "outputs": [
    {
     "name": "stdout",
     "output_type": "stream",
     "text": [
      "/opt/conda/lib/python3.10/site-packages/unifrac/__init__.py:9: UserWarning: pkg_resources is deprecated as an API. See https://setuptools.pypa.io/en/latest/pkg_resources.html. The pkg_resources package is slated for removal as early as 2025-11-30. Refrain from using this package or pin to Setuptools<81.\n",
      "  import pkg_resources\n"
     ]
    }
   ],
   "source": [
    "!qiime feature-classifier fit-classifier-naive-bayes \\\n",
    "  --i-reference-reads Data/processed/unite-ref-seqs-lca.qza \\\n",
    "  --i-reference-taxonomy Data/processed/unite-ref-taxonomy-lca.qza\\\n",
    "  --p-classify--chunk-size 10 \\\n",
    "  --o-classifier Data/processed/unite-dynamic-classifier.qza "
   ]
  },
  {
   "cell_type": "markdown",
   "id": "67920e1f-478e-425f-ac1e-1fd3eaf2a6b1",
   "metadata": {},
   "source": [
    "I think above method uses too much memory, because always aborted when Mem red"
   ]
  },
  {
   "cell_type": "code",
   "execution_count": null,
   "id": "8c93c750-5a4c-404c-a2d6-266a820d4f9d",
   "metadata": {
    "tags": []
   },
   "outputs": [],
   "source": [
    "!qiime feature-classifier classify-sklearn \\\n",
    "  --i-classifier 'Data/processed/unite-dynamic-classifier.qza' \\\n",
    "  --i-reads 'Data/processed/rep-seqs.qza' \\\n",
    "  --o-classification taxonomy.qza"
   ]
  },
  {
   "cell_type": "markdown",
   "id": "2de8d373-821a-4e93-a9a8-69b78c75bc8f",
   "metadata": {},
   "source": [
    "the last file (classifier) is not created; maybe to small of RAM, check with week 5 where we did it with several parallel"
   ]
  },
  {
   "cell_type": "markdown",
   "id": "be14ffbd-7455-436a-b098-22be5a623310",
   "metadata": {},
   "source": [
    "Citation of one UNITE classifier\n",
    "Abarenkov, Kessy; Zirk, Allan; Piirmann, Timo; Pöhönen, Raivo; Ivanov, Filipp; Nilsson, R. Henrik; Kõljalg, Urmas (2025): UNITE QIIME release for Fungi. UNITE Community. 10.15156/BIO/3301241"
   ]
  }
 ],
 "metadata": {
  "kernelspec": {
   "display_name": "QIIME 2",
   "language": "python",
   "name": "python3"
  },
  "language_info": {
   "codemirror_mode": {
    "name": "ipython",
    "version": 3
   },
   "file_extension": ".py",
   "mimetype": "text/x-python",
   "name": "python",
   "nbconvert_exporter": "python",
   "pygments_lexer": "ipython3",
   "version": "3.10.14"
  }
 },
 "nbformat": 4,
 "nbformat_minor": 5
}
