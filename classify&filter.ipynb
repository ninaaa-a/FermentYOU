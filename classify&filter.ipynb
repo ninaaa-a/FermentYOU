{
 "cells": [
  {
   "cell_type": "markdown",
   "id": "6bd7c2cc-8ec1-450a-b6ca-1e0084e37ae9",
   "metadata": {},
   "source": [
    "because are dataset is already denoised, they are already truncated & we don't need to know wheter they are paired or single end reads because they are already assembled"
   ]
  },
  {
   "cell_type": "markdown",
   "id": "892382ae-58c8-4579-8264-e2431b146d60",
   "metadata": {
    "tags": []
   },
   "source": [
    "### Classifiying"
   ]
  },
  {
   "cell_type": "code",
   "execution_count": 1,
   "id": "2737b077-df23-4f47-ae10-5df9d98f1108",
   "metadata": {},
   "outputs": [],
   "source": [
    "import os\n",
    "import pandas as pd\n",
    "from qiime2 import Visualization\n",
    "import matplotlib.pyplot as plt\n",
    "import numpy as np\n",
    "\n",
    "import qiime2 as q2\n",
    "\n",
    "%matplotlib inline\n",
    "\n",
    "\n",
    "Data = 'Data'"
   ]
  },
  {
   "cell_type": "code",
   "execution_count": 9,
   "id": "e897e1e8-ca37-42d4-9735-3de552b7a073",
   "metadata": {
    "tags": []
   },
   "outputs": [
    {
     "name": "stdout",
     "output_type": "stream",
     "text": [
      "/opt/conda/lib/python3.10/site-packages/unifrac/__init__.py:9: UserWarning: pkg_resources is deprecated as an API. See https://setuptools.pypa.io/en/latest/pkg_resources.html. The pkg_resources package is slated for removal as early as 2025-11-30. Refrain from using this package or pin to Setuptools<81.\n",
      "  import pkg_resources\n",
      "\u001b[32mImported Data/UNITE_dynamic/sh_refs_qiime_ver10_dynamic_19.02.2025.fasta as DNASequencesDirectoryFormat to Data/processed/unite-ref-seqs.qza\u001b[0m\n",
      "\u001b[0m\u001b[?25h/opt/conda/lib/python3.10/site-packages/unifrac/__init__.py:9: UserWarning: pkg_resources is deprecated as an API. See https://setuptools.pypa.io/en/latest/pkg_resources.html. The pkg_resources package is slated for removal as early as 2025-11-30. Refrain from using this package or pin to Setuptools<81.\n",
      "  import pkg_resources\n",
      "\u001b[32mImported Data/UNITE_dynamic/sh_taxonomy_qiime_ver10_dynamic_19.02.2025.txt as HeaderlessTSVTaxonomyFormat to Data/processed/unite-ref-taxonomy.qza\u001b[0m\n",
      "\u001b[0m\u001b[?25h/opt/conda/lib/python3.10/site-packages/unifrac/__init__.py:9: UserWarning: pkg_resources is deprecated as an API. See https://setuptools.pypa.io/en/latest/pkg_resources.html. The pkg_resources package is slated for removal as early as 2025-11-30. Refrain from using this package or pin to Setuptools<81.\n",
      "  import pkg_resources\n"
     ]
    }
   ],
   "source": [
    "# 1. Import reference sequences\n",
    "!qiime tools import \\\n",
    "  --type 'FeatureData[Sequence]' \\\n",
    "  --input-path Data/UNITE_dynamic/sh_refs_qiime_ver10_dynamic_19.02.2025.fasta \\\n",
    "  --output-path Data/processed/unite-ref-seqs.qza\n",
    "\n",
    "# 2. Import taxonomy\n",
    "!qiime tools import \\\n",
    "  --type 'FeatureData[Taxonomy]' \\\n",
    "  --input-format HeaderlessTSVTaxonomyFormat \\\n",
    "  --input-path Data/UNITE_dynamic/sh_taxonomy_qiime_ver10_dynamic_19.02.2025.txt \\\n",
    "  --output-path Data/processed/unite-ref-taxonomy.qza\n",
    "\n",
    "# 3. Train the classifier\n",
    "!qiime feature-classifier fit-classifier-naive-bayes \\\n",
    "  --i-reference-reads Data/processed/unite-ref-seqs.qza \\\n",
    "  --i-reference-taxonomy Data/processed/unite-ref-taxonomy.qza \\\n",
    "  --o-classifier Data/processed/unite-dynamic-classifier.qza"
   ]
  },
  {
   "cell_type": "code",
   "execution_count": 11,
   "id": "4c783910-5dae-410d-9da7-1e06453313eb",
   "metadata": {
    "tags": []
   },
   "outputs": [
    {
     "name": "stdout",
     "output_type": "stream",
     "text": [
      "/opt/conda/lib/python3.10/site-packages/unifrac/__init__.py:9: UserWarning: pkg_resources is deprecated as an API. See https://setuptools.pypa.io/en/latest/pkg_resources.html. The pkg_resources package is slated for removal as early as 2025-11-30. Refrain from using this package or pin to Setuptools<81.\n",
      "  import pkg_resources\n",
      "/opt/conda/lib/python3.10/site-packages/q2_feature_classifier/classifier.py:106: UserWarning: The TaxonomicClassifier artifact that results from this method was trained using scikit-learn version 1.4.2. It cannot be used with other versions of scikit-learn. (While the classifier may complete successfully, the results will be unreliable.)\n",
      "  warnings.warn(warning, UserWarning)\n"
     ]
    }
   ],
   "source": [
    "!qiime feature-classifier fit-classifier-naive-bayes \\\n",
    "  --i-reference-reads Data/processed/unite-ref-seqs.qza \\\n",
    "  --i-reference-taxonomy Data/processed/unite-ref-taxonomy.qza \\\n",
    "  --o-classifier Data/processed/unite-dynamic-classifier.qza \\\n",
    "  --verbose"
   ]
  },
  {
   "cell_type": "code",
   "execution_count": 8,
   "id": "8c93c750-5a4c-404c-a2d6-266a820d4f9d",
   "metadata": {
    "tags": []
   },
   "outputs": [
    {
     "name": "stdout",
     "output_type": "stream",
     "text": [
      "/opt/conda/lib/python3.10/site-packages/unifrac/__init__.py:9: UserWarning: pkg_resources is deprecated as an API. See https://setuptools.pypa.io/en/latest/pkg_resources.html. The pkg_resources package is slated for removal as early as 2025-11-30. Refrain from using this package or pin to Setuptools<81.\n",
      "  import pkg_resources\n",
      "Usage: \u001b[94mqiime feature-classifier classify-sklearn\u001b[0m [OPTIONS]\n",
      "\n",
      "  Classify reads by taxon using a fitted classifier.\n",
      "\n",
      "\u001b[1mInputs\u001b[0m:\n",
      "  \u001b[94m\u001b[4m--i-reads\u001b[0m ARTIFACT \u001b[32mFeatureData[Sequence]\u001b[0m\n",
      "                         The feature data to be classified.         \u001b[35m[required]\u001b[0m\n",
      "  \u001b[94m\u001b[4m--i-classifier\u001b[0m ARTIFACT\n",
      "    \u001b[32mTaxonomicClassifier\u001b[0m  The taxonomic classifier for classifying the reads.\n",
      "                                                                    \u001b[35m[required]\u001b[0m\n",
      "\u001b[1mParameters\u001b[0m:\n",
      "  \u001b[94m--p-reads-per-batch\u001b[0m VALUE \u001b[32mInt % Range(1, None) | Str % Choices('auto')\u001b[0m\n",
      "                         Number of reads to process in each batch. If \"auto\",\n",
      "                         this parameter is autoscaled to min( number of query\n",
      "                         sequences / \u001b[4mn-jobs\u001b[0m, 20000).         \u001b[35m[default: 'auto']\u001b[0m\n",
      "  \u001b[94m--p-n-jobs\u001b[0m NTHREADS    The maximum number of concurrent worker processes.\n",
      "                         If 0 all CPUs are used. If 1 is given, no parallel\n",
      "                         computing code is used at all, which is useful for\n",
      "                         debugging.                               \u001b[35m[default: 1]\u001b[0m\n",
      "  \u001b[94m--p-pre-dispatch\u001b[0m TEXT  \"all\" or expression, as in \"3*n_jobs\". The number of\n",
      "                         batches (of tasks) to be pre-dispatched.\n",
      "                                                         \u001b[35m[default: '2*n_jobs']\u001b[0m\n",
      "  \u001b[94m--p-confidence\u001b[0m VALUE \u001b[32mFloat % Range(0, 1, inclusive_end=True) | Str %\u001b[0m\n",
      "    \u001b[32mChoices('disable')\u001b[0m   Confidence threshold for limiting taxonomic depth.\n",
      "                         Set to \"disable\" to disable confidence calculation,\n",
      "                         or 0 to calculate confidence but not apply it to\n",
      "                         limit the taxonomic depth of the assignments.\n",
      "                                                                \u001b[35m[default: 0.7]\u001b[0m\n",
      "  \u001b[94m--p-read-orientation\u001b[0m TEXT \u001b[32mChoices('same', 'reverse-complement', 'auto',\u001b[0m\n",
      "    \u001b[32m'both')\u001b[0m              Direction of reads with respect to reference\n",
      "                         sequences. same will cause reads to be classified\n",
      "                         unchanged; reverse-complement will cause reads to be\n",
      "                         reversed and complemented prior to classification.\n",
      "                         Both will classify sequences unchanged and in\n",
      "                         reverse-complement and retain the classification with\n",
      "                         higher confidence. auto will autodetect orientation\n",
      "                         based on the confidence estimates for the first 100\n",
      "                         reads.                              \u001b[35m[default: 'auto']\u001b[0m\n",
      "\u001b[1mOutputs\u001b[0m:\n",
      "  \u001b[94m\u001b[4m--o-classification\u001b[0m ARTIFACT \u001b[32mFeatureData[Taxonomy]\u001b[0m\n",
      "                                                                    \u001b[35m[required]\u001b[0m\n",
      "\u001b[1mMiscellaneous\u001b[0m:\n",
      "  \u001b[94m--output-dir\u001b[0m PATH      Output unspecified results to a directory\n",
      "  \u001b[94m--verbose\u001b[0m / \u001b[94m--quiet\u001b[0m    Display verbose output to stdout and/or stderr\n",
      "                         during execution of this action. Or silence output if\n",
      "                         execution is successful (silence is golden).\n",
      "  \u001b[94m--example-data\u001b[0m PATH    Write example data and exit.\n",
      "  \u001b[94m--citations\u001b[0m            Show citations and exit.\n",
      "  \u001b[94m--use-cache\u001b[0m DIRECTORY  Specify the cache to be used for the intermediate\n",
      "                         work of this action. If not provided, the default\n",
      "                         cache under $TMP/qiime2/<uname> will be used.\n",
      "                         IMPORTANT FOR HPC USERS: If you are on an HPC system\n",
      "                         and are using parallel execution it is important to\n",
      "                         set this to a location that is globally accessible to\n",
      "                         all nodes in the cluster.\n",
      "  \u001b[94m--help\u001b[0m                 Show this message and exit.\n",
      "\n",
      "\u001b[33m                  There were some problems with the command:                  \u001b[0m\n",
      "\u001b[31m\u001b[1m (1/2) Invalid value for '--i-classifier': Data/processed/unite-dynamic-\n",
      "  classifier.qza does not exist.\u001b[0m\n",
      "\u001b[31m\u001b[1m (2/2) Invalid value for '--i-reads': Data/processed/rep-seqs.qza does not\n",
      "  exist.\u001b[0m\n",
      "\u001b[0m\u001b[?25h"
     ]
    }
   ],
   "source": [
    "!qiime feature-classifier classify-sklearn \\\n",
    "  --i-classifier 'Data/processed/unite-dynamic-classifier.qza' \\\n",
    "  --i-reads 'Data/processed/rep-seqs.qza' \\\n",
    "  --o-classification taxonomy.qza"
   ]
  },
  {
   "cell_type": "markdown",
   "id": "2de8d373-821a-4e93-a9a8-69b78c75bc8f",
   "metadata": {},
   "source": [
    "the last file (classifier) is not created; maybe to small of RAM, check with week 5 where we did it with several parallel"
   ]
  },
  {
   "cell_type": "markdown",
   "id": "be14ffbd-7455-436a-b098-22be5a623310",
   "metadata": {},
   "source": [
    "Citation of one UNITE classifier\n",
    "Abarenkov, Kessy; Zirk, Allan; Piirmann, Timo; Pöhönen, Raivo; Ivanov, Filipp; Nilsson, R. Henrik; Kõljalg, Urmas (2025): UNITE QIIME release for Fungi. UNITE Community. 10.15156/BIO/3301241"
   ]
  }
 ],
 "metadata": {
  "kernelspec": {
   "display_name": "QIIME 2",
   "language": "python",
   "name": "python3"
  },
  "language_info": {
   "codemirror_mode": {
    "name": "ipython",
    "version": 3
   },
   "file_extension": ".py",
   "mimetype": "text/x-python",
   "name": "python",
   "nbconvert_exporter": "python",
   "pygments_lexer": "ipython3",
   "version": "3.10.14"
  }
 },
 "nbformat": 4,
 "nbformat_minor": 5
}
