{
 "cells": [
  {
   "cell_type": "code",
   "execution_count": null,
   "id": "69131606-31b2-43db-8500-d33ba70be8d2",
   "metadata": {},
   "outputs": [],
   "source": [
    "#code for training classifier on Euler "
   ]
  },
  {
   "cell_type": "code",
   "execution_count": null,
   "id": "7866ee90-4e92-4fbc-8205-7dcb05cff976",
   "metadata": {},
   "outputs": [],
   "source": [
    "# You're already here when you SSH in!\n",
    "# Just run commands directly in your terminal:\n",
    "\n",
    "source ~/.bashrc\n",
    "conda activate qiime2-moshpit-2025.7\n",
    "mkdir -p ~/unite_database\n",
    "cd ~/unite_database\n",
    "\n",
    "qiime rescript get-unite-data \\\n",
    "  --p-version 2025-02-19 \\\n",
    "  --p-taxon-group eukaryotes \\\n",
    "  --p-cluster-id dynamic \\\n",
    "  --p-no-singletons \\\n",
    "  --verbose \\\n",
    "  --output-dir uniteDB"
   ]
  },
  {
   "cell_type": "code",
   "execution_count": null,
   "id": "649b64e0-372e-47ce-a5d5-8b1cb15f81e7",
   "metadata": {},
   "outputs": [],
   "source": [
    "#train classifier\n",
    "#!/bin/bash\n",
    "#SBATCH --job-name=train_unite_classifier\n",
    "#SBATCH --time=04:00:00\n",
    "#SBATCH --mem-per-cpu=32G\n",
    "#SBATCH --cpus-per-task=4\n",
    "#SBATCH --output=train_%j.out\n",
    "#SBATCH --error=train_%j.err\n",
    "\n",
    "# Exit on error\n",
    "set -e\n",
    "\n",
    "# Activate QIIME2 environment\n",
    "source ~/.bashrc\n",
    "conda activate qiime2-moshpit-2025.7\n",
    "\n",
    "# Navigate to your database directory\n",
    "cd ~/unite_database\n",
    "\n",
    "echo \"Step 1: Filtering sequences with unhelpful taxonomy...\"\n",
    "qiime taxa filter-seqs \\\n",
    "  --p-exclude Fungi_sp,mycota_sp,mycetes_sp \\\n",
    "  --i-taxonomy uniteDB/taxonomy.qza \\\n",
    "  --i-sequences uniteDB/sequences.qza \\\n",
    "  --o-filtered-sequences uniteDB/sequences-filtered.qza\n",
    "\n",
    "echo \"Step 2: Removing accession numbers from taxonomy...\"\n",
    "qiime rescript edit-taxonomy \\\n",
    "  --i-taxonomy uniteDB/taxonomy.qza \\\n",
    "  --o-edited-taxonomy uniteDB/taxonomy-no-SH.qza \\\n",
    "  --p-search-strings ';sh__.*' \\\n",
    "  --p-replacement-strings '' \\\n",
    "  --p-use-regex\n",
    "\n",
    "echo \"Step 3: Training the classifier (this may take a while)...\"\n",
    "qiime feature-classifier fit-classifier-naive-bayes \\\n",
    "  --i-reference-reads uniteDB/sequences-filtered.qza \\\n",
    "  --i-reference-taxonomy uniteDB/taxonomy-no-SH.qza \\\n",
    "  --o-classifier uniteDB/classifier.qza \\\n",
    "  --verbose\n",
    "\n",
    "echo \"Pipeline completed successfully!\"\n",
    "echo \"Classifier saved to: ~/unite_database/uniteDB/classifier.qza\""
   ]
  }
 ],
 "metadata": {
  "kernelspec": {
   "display_name": "QIIME 2",
   "language": "python",
   "name": "python3"
  },
  "language_info": {
   "codemirror_mode": {
    "name": "ipython",
    "version": 3
   },
   "file_extension": ".py",
   "mimetype": "text/x-python",
   "name": "python",
   "nbconvert_exporter": "python",
   "pygments_lexer": "ipython3",
   "version": "3.10.14"
  }
 },
 "nbformat": 4,
 "nbformat_minor": 5
}
