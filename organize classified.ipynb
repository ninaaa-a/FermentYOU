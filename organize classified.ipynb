{
 "cells": [
  {
   "cell_type": "code",
   "execution_count": 2,
   "id": "f9c5e66c-996b-4b5d-9103-9f0d7fad49b1",
   "metadata": {
    "tags": []
   },
   "outputs": [],
   "source": [
    "import os\n",
    "import pandas as pd\n",
    "from qiime2 import Visualization\n",
    "import matplotlib.pyplot as plt\n",
    "import numpy as np\n",
    "\n",
    "import qiime2 as q2\n",
    "\n",
    "%matplotlib inline\n",
    "\n",
    "Data = 'Data'"
   ]
  },
  {
   "cell_type": "code",
   "execution_count": 3,
   "id": "5215727b-e356-4715-8f74-d658258421c6",
   "metadata": {
    "tags": []
   },
   "outputs": [],
   "source": [
    "classified = pd.read_csv('Data/classified/metadata.tsv', sep='\\t')"
   ]
  },
  {
   "cell_type": "code",
   "execution_count": 6,
   "id": "1920bef4-b5cd-4c3a-b58a-3e393930a43d",
   "metadata": {
    "tags": []
   },
   "outputs": [
    {
     "data": {
      "text/html": [
       "<div>\n",
       "<style scoped>\n",
       "    .dataframe tbody tr th:only-of-type {\n",
       "        vertical-align: middle;\n",
       "    }\n",
       "\n",
       "    .dataframe tbody tr th {\n",
       "        vertical-align: top;\n",
       "    }\n",
       "\n",
       "    .dataframe thead th {\n",
       "        text-align: right;\n",
       "    }\n",
       "</style>\n",
       "<table border=\"1\" class=\"dataframe\">\n",
       "  <thead>\n",
       "    <tr style=\"text-align: right;\">\n",
       "      <th></th>\n",
       "      <th>Feature ID</th>\n",
       "      <th>Taxon</th>\n",
       "      <th>Confidence</th>\n",
       "    </tr>\n",
       "  </thead>\n",
       "  <tbody>\n",
       "    <tr>\n",
       "      <th>0</th>\n",
       "      <td>#q2:types</td>\n",
       "      <td>categorical</td>\n",
       "      <td>categorical</td>\n",
       "    </tr>\n",
       "    <tr>\n",
       "      <th>1</th>\n",
       "      <td>1bd2147eda3fbd7418a1c94885229e37</td>\n",
       "      <td>Unassigned</td>\n",
       "      <td>0.3308772959839672</td>\n",
       "    </tr>\n",
       "    <tr>\n",
       "      <th>2</th>\n",
       "      <td>527ad00bae9e7c1c3848b6db6d319b77</td>\n",
       "      <td>Unassigned</td>\n",
       "      <td>0.6237570141064187</td>\n",
       "    </tr>\n",
       "    <tr>\n",
       "      <th>3</th>\n",
       "      <td>4040c071f067fa9875cc1d302168da58</td>\n",
       "      <td>Unassigned</td>\n",
       "      <td>0.5446777298953818</td>\n",
       "    </tr>\n",
       "    <tr>\n",
       "      <th>4</th>\n",
       "      <td>2ed868465ac966f62ab733bed9f4c929</td>\n",
       "      <td>Unassigned</td>\n",
       "      <td>0.6607113921754798</td>\n",
       "    </tr>\n",
       "    <tr>\n",
       "      <th>...</th>\n",
       "      <td>...</td>\n",
       "      <td>...</td>\n",
       "      <td>...</td>\n",
       "    </tr>\n",
       "    <tr>\n",
       "      <th>19895</th>\n",
       "      <td>97cfb5a77867110923d682faa2f0e86e</td>\n",
       "      <td>k__Fungi;p__Basidiomycota;c__Tremellomycetes;o...</td>\n",
       "      <td>0.9993812875513438</td>\n",
       "    </tr>\n",
       "    <tr>\n",
       "      <th>19896</th>\n",
       "      <td>2eb0c09cee045d340bdee932ae10b730</td>\n",
       "      <td>k__Fungi;p__Ascomycota;c__Saccharomycetes;o__S...</td>\n",
       "      <td>0.9997063965193627</td>\n",
       "    </tr>\n",
       "    <tr>\n",
       "      <th>19897</th>\n",
       "      <td>fe92f07c5b046fc8262cdcee9fcf9810</td>\n",
       "      <td>k__Fungi;p__Ascomycota;c__Saccharomycetes;o__S...</td>\n",
       "      <td>0.927265988782941</td>\n",
       "    </tr>\n",
       "    <tr>\n",
       "      <th>19898</th>\n",
       "      <td>527edc503c0b6e0ae0ff86eb22d21f96</td>\n",
       "      <td>Unassigned</td>\n",
       "      <td>0.485845952422547</td>\n",
       "    </tr>\n",
       "    <tr>\n",
       "      <th>19899</th>\n",
       "      <td>8e6ac178a6e8d1bc4bc73a9e1a2520c5</td>\n",
       "      <td>k__Fungi;p__Ascomycota;c__Saccharomycetes;o__S...</td>\n",
       "      <td>0.7541186943395917</td>\n",
       "    </tr>\n",
       "  </tbody>\n",
       "</table>\n",
       "<p>19900 rows × 3 columns</p>\n",
       "</div>"
      ],
      "text/plain": [
       "                             Feature ID  \\\n",
       "0                             #q2:types   \n",
       "1      1bd2147eda3fbd7418a1c94885229e37   \n",
       "2      527ad00bae9e7c1c3848b6db6d319b77   \n",
       "3      4040c071f067fa9875cc1d302168da58   \n",
       "4      2ed868465ac966f62ab733bed9f4c929   \n",
       "...                                 ...   \n",
       "19895  97cfb5a77867110923d682faa2f0e86e   \n",
       "19896  2eb0c09cee045d340bdee932ae10b730   \n",
       "19897  fe92f07c5b046fc8262cdcee9fcf9810   \n",
       "19898  527edc503c0b6e0ae0ff86eb22d21f96   \n",
       "19899  8e6ac178a6e8d1bc4bc73a9e1a2520c5   \n",
       "\n",
       "                                                   Taxon          Confidence  \n",
       "0                                            categorical         categorical  \n",
       "1                                             Unassigned  0.3308772959839672  \n",
       "2                                             Unassigned  0.6237570141064187  \n",
       "3                                             Unassigned  0.5446777298953818  \n",
       "4                                             Unassigned  0.6607113921754798  \n",
       "...                                                  ...                 ...  \n",
       "19895  k__Fungi;p__Basidiomycota;c__Tremellomycetes;o...  0.9993812875513438  \n",
       "19896  k__Fungi;p__Ascomycota;c__Saccharomycetes;o__S...  0.9997063965193627  \n",
       "19897  k__Fungi;p__Ascomycota;c__Saccharomycetes;o__S...   0.927265988782941  \n",
       "19898                                         Unassigned   0.485845952422547  \n",
       "19899  k__Fungi;p__Ascomycota;c__Saccharomycetes;o__S...  0.7541186943395917  \n",
       "\n",
       "[19900 rows x 3 columns]"
      ]
     },
     "execution_count": 6,
     "metadata": {},
     "output_type": "execute_result"
    }
   ],
   "source": [
    "classified"
   ]
  },
  {
   "cell_type": "code",
   "execution_count": null,
   "id": "972aa9b4-7029-499f-86a7-ad8fcdf94349",
   "metadata": {},
   "outputs": [],
   "source": []
  },
  {
   "cell_type": "code",
   "execution_count": null,
   "id": "f1093b87-9b0f-434e-a163-1b4869db486b",
   "metadata": {},
   "outputs": [],
   "source": []
  }
 ],
 "metadata": {
  "kernelspec": {
   "display_name": "QIIME 2",
   "language": "python",
   "name": "python3"
  },
  "language_info": {
   "codemirror_mode": {
    "name": "ipython",
    "version": 3
   },
   "file_extension": ".py",
   "mimetype": "text/x-python",
   "name": "python",
   "nbconvert_exporter": "python",
   "pygments_lexer": "ipython3",
   "version": "3.10.14"
  }
 },
 "nbformat": 4,
 "nbformat_minor": 5
}
